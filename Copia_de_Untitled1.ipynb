{
  "nbformat": 4,
  "nbformat_minor": 0,
  "metadata": {
    "colab": {
      "provenance": [],
      "authorship_tag": "ABX9TyOcHrPuWVBo8uSnPR02rIQc",
      "include_colab_link": true
    },
    "kernelspec": {
      "name": "python3",
      "display_name": "Python 3"
    },
    "language_info": {
      "name": "python"
    }
  },
  "cells": [
    {
      "cell_type": "markdown",
      "metadata": {
        "id": "view-in-github",
        "colab_type": "text"
      },
      "source": [
        "<a href=\"https://colab.research.google.com/github/carlosperz88/dasany/blob/main/Copia_de_Untitled1.ipynb\" target=\"_parent\"><img src=\"https://colab.research.google.com/assets/colab-badge.svg\" alt=\"Open In Colab\"/></a>"
      ]
    },
    {
      "cell_type": "code",
      "execution_count": null,
      "metadata": {
        "id": "NJAqhIqVRwEq"
      },
      "outputs": [],
      "source": [
        "OPTIONS = {}\n",
        "\n",
        "USE_GOOGLE_DRIVE = True  #@param {type:\"boolean\"}\n",
        "UPDATE_DJ_AI = True  #@param {type:\"boolean\"}\n",
        "WORKSPACE = 'DJ_AI'\n",
        "OPTIONS['USE_GOOGLE_DRIVE'] = USE_GOOGLE_DRIVE\n",
        "OPTIONS['UPDATE_DJ_AI'] = UPDATE_DJ_AI\n",
        "\n",
        "if OPTIONS['USE_GOOGLE_DRIVE']:\n",
        "    !echo \"Mounting Google Drive...\"\n",
        "    %cd /\n",
        "\n",
        "    from google.colab import drive\n",
        "    drive.mount('/content/drive')\n",
        "\n",
        "    WORKSPACE = \"/content/drive/MyDrive/DJ_AI\"\n",
        "    %cd /content/drive/MyDrive\n",
        "\n",
        "\n",
        "import librosa\n",
        "\n",
        "# Cargar las pistas de audio\n",
        "track1, sr1 = librosa.load(\"/content/drive/MyDrive/DJ_AI/Dj Vianu - Dj Vianu x Dj Project feat. Andia - Retrograd (Remix).mp3\")  # Reemplaza con la ruta de tu pista 1\n",
        "track2, sr2 = librosa.load(\"/content/drive/MyDrive/DJ_AI/Deepen Groove - Lauv - The Story Never Ends (Deepen Groove Remix).mp3\")  # Reemplaza con la ruta de tu pista 2\n",
        "\n",
        "# Estimar los BPM de las pistas\n",
        "bpm_track1, _ = librosa.beat.beat_track(y=track1, sr=sr1)\n",
        "bpm_track2, _ = librosa.beat.beat_track(y=track2, sr=sr2)\n",
        "\n",
        "# Calcular la duración requerida para sincronizar las pistas\n",
        "duration = min(len(track1), len(track2))  # Ajusta según tu preferencia\n",
        "\n",
        "# Asegúrate de que ambas pistas tengan la misma duración\n",
        "track1 = track1[:duration]\n",
        "track2 = track2[:duration]\n",
        "\n",
        "# Mix the tracks (usando PyDub como en tu código anterior)\n",
        "from pydub import AudioSegment\n",
        "mixed_track = AudioSegment.from_file(track1) + AudioSegment.from_file(track2)\n",
        "\n",
        "# Exporta la pista mezclada\n",
        "mixed_track.export(\"dj-iau.mp3\", format=\"mp3\")\n"
      ]
    },
    {
      "cell_type": "code",
      "source": [
        "import librosa\n",
        "\n",
        "# Cargar las pistas de audio\n",
        "track1, sr1 = librosa.load(\"/content/drive/MyDrive/DJ_AI/DJ Itay Daoss - Welcome To Summer 2015 Vol 1 .mp3\")  # Reemplaza con la ruta de tu pista 1\n",
        "track2, sr2 = librosa.load(\"/content/drive/MyDrive/DJ_AI/♫ DJ Itay Daoss - Welcome To Summer 2015 Vol.3 ♫ -HD 1080p-.mp3\")  # Reemplaza con la ruta de tu pista 2\n",
        "\n",
        "# Estimar los BPM de las pistas\n",
        "bpm_track1, _ = librosa.beat.beat_track(y=track1, sr=sr1)\n",
        "bpm_track2, _ = librosa.beat.beat_track(y=track2, sr=sr2)\n",
        "\n",
        "# Calcular la duración requerida para sincronizar las pistas\n",
        "duration = min(len(track1), len(track2))  # Ajusta según tu preferencia\n",
        "\n",
        "# Adjust the duration of both tracks to be the same (3 minutes and 42 seconds)\n",
        "track1 = track1[:duration]\n",
        "track2 = track2[:duration]\n",
        "\n",
        "# Mix the tracks (usando PyDub como en tu código anterior)\n",
        "from pydub import AudioSegment\n",
        "mixed_track = AudioSegment.from_file(track1) + AudioSegment.from_file(track2)\n",
        "\n",
        "# Exporta la pista mezclada\n",
        "mixed_track.export(\"dj-iay.mp3\", format=\"mp3\")"
      ],
      "metadata": {
        "id": "Pd96g_48TH6k"
      },
      "execution_count": null,
      "outputs": []
    },
    {
      "cell_type": "code",
      "source": [
        "import librosa\n",
        "from pydub import AudioSegment\n",
        "\n",
        "# Cargar las pistas de audio\n",
        "track1, sr1 = librosa.load(\"/content/drive/MyDrive/DJ_AI/DJ Elon Matana   Hits of 2015 Vol 9 .mp3\")  # Reemplaza con la ruta de tu pista 1\n",
        "track2, sr2 = librosa.load(\"/content/drive/MyDrive/DJ_AI/Dj Vianu - Dj Vianu x Dj Project feat. Andia - Retrograd (Remix).mp3\")  # Reemplaza con la ruta de tu pista 2\n",
        "\n",
        "# Estimar los BPM de las pistas\n",
        "bpm_track1, _ = librosa.beat.beat_track(y=track1, sr=sr1)\n",
        "bpm_track2, _ = librosa.beat.beat_track(y=track2, sr=sr2)\n",
        "\n",
        "# Calcular la duración deseada en términos de muestras\n",
        "duracion_muestras = int(min(len(track1), len(track2)))\n",
        "\n",
        "# Asegúrate de que ambas pistas tengan la misma duración\n",
        "track1 = track1[:duracion_muestras]\n",
        "track2 = track2[:duracion_muestras]\n",
        "\n",
        "# Convertir las matrices numpy en archivos de audio temporal\n",
        "temp_audio1 = \"temp_track1.wav\"\n",
        "temp_audio2 = \"temp_track2.wav\"\n",
        "\n",
        "librosa.output.write_wav(temp_audio1, track1, sr=sr1)\n",
        "librosa.output.write_wav(temp_audio2, track2, sr=sr2)\n",
        "\n",
        "# Cargar los archivos temporales en AudioSegment y mezclarlos\n",
        "audio_segment1 = AudioSegment.from_wav(temp_audio1)\n",
        "audio_segment2 = AudioSegment.from_wav(temp_audio2)\n",
        "mixed_track = audio_segment1 + audio_segment2\n",
        "\n",
        "# Exportar la pista mezclada\n",
        "mixed_track.export(\"dj-ia1.mp3\", format=\"mp3\")\n",
        "\n"
      ],
      "metadata": {
        "id": "ePP3PcxWWyDA"
      },
      "execution_count": null,
      "outputs": []
    },
    {
      "cell_type": "code",
      "source": [
        "!pip install AudioSegment"
      ],
      "metadata": {
        "colab": {
          "base_uri": "https://localhost:8080/"
        },
        "id": "UTbcPMEDUI6U",
        "outputId": "31a478bf-0632-447d-a72c-cb3b085eac9d"
      },
      "execution_count": null,
      "outputs": [
        {
          "output_type": "stream",
          "name": "stdout",
          "text": [
            "Collecting AudioSegment\n",
            "  Downloading audiosegment-0.23.0-py3-none-any.whl (34 kB)\n",
            "Requirement already satisfied: pydub in /usr/local/lib/python3.10/dist-packages (from AudioSegment) (0.25.1)\n",
            "Collecting webrtcvad (from AudioSegment)\n",
            "  Downloading webrtcvad-2.0.10.tar.gz (66 kB)\n",
            "\u001b[2K     \u001b[90m━━━━━━━━━━━━━━━━━━━━━━━━━━━━━━━━━━━━━━━━\u001b[0m \u001b[32m66.2/66.2 kB\u001b[0m \u001b[31m3.2 MB/s\u001b[0m eta \u001b[36m0:00:00\u001b[0m\n",
            "\u001b[?25h  Preparing metadata (setup.py) ... \u001b[?25l\u001b[?25hdone\n",
            "Requirement already satisfied: numpy in /usr/local/lib/python3.10/dist-packages (from AudioSegment) (1.23.5)\n",
            "Building wheels for collected packages: webrtcvad\n",
            "  Building wheel for webrtcvad (setup.py) ... \u001b[?25l\u001b[?25hdone\n",
            "  Created wheel for webrtcvad: filename=webrtcvad-2.0.10-cp310-cp310-linux_x86_64.whl size=73469 sha256=a56515d533b55ebd4c8d6bced5af5f092e3cff31dab949c9058e3cab2df8f3a2\n",
            "  Stored in directory: /root/.cache/pip/wheels/2a/2b/84/ac7bacfe8c68a87c1ee3dd3c66818a54c71599abf308e8eb35\n",
            "Successfully built webrtcvad\n",
            "Installing collected packages: webrtcvad, AudioSegment\n",
            "Successfully installed AudioSegment-0.23.0 webrtcvad-2.0.10\n"
          ]
        }
      ]
    },
    {
      "cell_type": "code",
      "source": [
        "!pip install pygame UPDATE"
      ],
      "metadata": {
        "colab": {
          "base_uri": "https://localhost:8080/"
        },
        "id": "ufelQRIxUKcn",
        "outputId": "b5a98063-64ad-4a63-94e6-477a46a989a9"
      },
      "execution_count": null,
      "outputs": [
        {
          "output_type": "stream",
          "name": "stdout",
          "text": [
            "Requirement already satisfied: pygame in /usr/local/lib/python3.10/dist-packages (2.5.2)\n",
            "Collecting UPDATE\n",
            "  Downloading update-0.0.1-py2.py3-none-any.whl (2.9 kB)\n",
            "Collecting style==1.1.0 (from UPDATE)\n",
            "  Downloading style-1.1.0-py2.py3-none-any.whl (6.4 kB)\n",
            "Installing collected packages: style, UPDATE\n",
            "Successfully installed UPDATE-0.0.1 style-1.1.0\n"
          ]
        }
      ]
    },
    {
      "cell_type": "code",
      "source": [
        "!pip install soundfile"
      ],
      "metadata": {
        "colab": {
          "base_uri": "https://localhost:8080/"
        },
        "id": "QHCKfz95UKvj",
        "outputId": "026eeea4-a81e-4f52-d0c8-d9844936668f"
      },
      "execution_count": null,
      "outputs": [
        {
          "output_type": "stream",
          "name": "stdout",
          "text": [
            "Requirement already satisfied: soundfile in /usr/local/lib/python3.10/dist-packages (0.12.1)\n",
            "Requirement already satisfied: cffi>=1.0 in /usr/local/lib/python3.10/dist-packages (from soundfile) (1.16.0)\n",
            "Requirement already satisfied: pycparser in /usr/local/lib/python3.10/dist-packages (from cffi>=1.0->soundfile) (2.21)\n"
          ]
        }
      ]
    },
    {
      "cell_type": "code",
      "source": [
        "!pip install pydub\n"
      ],
      "metadata": {
        "colab": {
          "base_uri": "https://localhost:8080/"
        },
        "id": "r16ZR2J7V5Z0",
        "outputId": "405aadbe-5b1e-4ef2-c173-736aa65f5339"
      },
      "execution_count": null,
      "outputs": [
        {
          "output_type": "stream",
          "name": "stdout",
          "text": [
            "Collecting pydub\n",
            "  Downloading pydub-0.25.1-py2.py3-none-any.whl (32 kB)\n",
            "Installing collected packages: pydub\n",
            "Successfully installed pydub-0.25.1\n"
          ]
        }
      ]
    },
    {
      "cell_type": "code",
      "source": [
        "!pip install librosa\n"
      ],
      "metadata": {
        "colab": {
          "base_uri": "https://localhost:8080/"
        },
        "id": "ES6C_RgcV9Eh",
        "outputId": "1d0298ee-8a2d-40a3-ea0d-934115a90ffe"
      },
      "execution_count": null,
      "outputs": [
        {
          "output_type": "stream",
          "name": "stdout",
          "text": [
            "Requirement already satisfied: librosa in /usr/local/lib/python3.10/dist-packages (0.10.1)\n",
            "Requirement already satisfied: audioread>=2.1.9 in /usr/local/lib/python3.10/dist-packages (from librosa) (3.0.1)\n",
            "Requirement already satisfied: numpy!=1.22.0,!=1.22.1,!=1.22.2,>=1.20.3 in /usr/local/lib/python3.10/dist-packages (from librosa) (1.23.5)\n",
            "Requirement already satisfied: scipy>=1.2.0 in /usr/local/lib/python3.10/dist-packages (from librosa) (1.11.3)\n",
            "Requirement already satisfied: scikit-learn>=0.20.0 in /usr/local/lib/python3.10/dist-packages (from librosa) (1.2.2)\n",
            "Requirement already satisfied: joblib>=0.14 in /usr/local/lib/python3.10/dist-packages (from librosa) (1.3.2)\n",
            "Requirement already satisfied: decorator>=4.3.0 in /usr/local/lib/python3.10/dist-packages (from librosa) (4.4.2)\n",
            "Requirement already satisfied: numba>=0.51.0 in /usr/local/lib/python3.10/dist-packages (from librosa) (0.56.4)\n",
            "Requirement already satisfied: soundfile>=0.12.1 in /usr/local/lib/python3.10/dist-packages (from librosa) (0.12.1)\n",
            "Requirement already satisfied: pooch>=1.0 in /usr/local/lib/python3.10/dist-packages (from librosa) (1.8.0)\n",
            "Requirement already satisfied: soxr>=0.3.2 in /usr/local/lib/python3.10/dist-packages (from librosa) (0.3.7)\n",
            "Requirement already satisfied: typing-extensions>=4.1.1 in /usr/local/lib/python3.10/dist-packages (from librosa) (4.5.0)\n",
            "Requirement already satisfied: lazy-loader>=0.1 in /usr/local/lib/python3.10/dist-packages (from librosa) (0.3)\n",
            "Requirement already satisfied: msgpack>=1.0 in /usr/local/lib/python3.10/dist-packages (from librosa) (1.0.7)\n",
            "Requirement already satisfied: llvmlite<0.40,>=0.39.0dev0 in /usr/local/lib/python3.10/dist-packages (from numba>=0.51.0->librosa) (0.39.1)\n",
            "Requirement already satisfied: setuptools in /usr/local/lib/python3.10/dist-packages (from numba>=0.51.0->librosa) (67.7.2)\n",
            "Requirement already satisfied: platformdirs>=2.5.0 in /usr/local/lib/python3.10/dist-packages (from pooch>=1.0->librosa) (3.11.0)\n",
            "Requirement already satisfied: packaging>=20.0 in /usr/local/lib/python3.10/dist-packages (from pooch>=1.0->librosa) (23.2)\n",
            "Requirement already satisfied: requests>=2.19.0 in /usr/local/lib/python3.10/dist-packages (from pooch>=1.0->librosa) (2.31.0)\n",
            "Requirement already satisfied: threadpoolctl>=2.0.0 in /usr/local/lib/python3.10/dist-packages (from scikit-learn>=0.20.0->librosa) (3.2.0)\n",
            "Requirement already satisfied: cffi>=1.0 in /usr/local/lib/python3.10/dist-packages (from soundfile>=0.12.1->librosa) (1.16.0)\n",
            "Requirement already satisfied: pycparser in /usr/local/lib/python3.10/dist-packages (from cffi>=1.0->soundfile>=0.12.1->librosa) (2.21)\n",
            "Requirement already satisfied: charset-normalizer<4,>=2 in /usr/local/lib/python3.10/dist-packages (from requests>=2.19.0->pooch>=1.0->librosa) (3.3.1)\n",
            "Requirement already satisfied: idna<4,>=2.5 in /usr/local/lib/python3.10/dist-packages (from requests>=2.19.0->pooch>=1.0->librosa) (3.4)\n",
            "Requirement already satisfied: urllib3<3,>=1.21.1 in /usr/local/lib/python3.10/dist-packages (from requests>=2.19.0->pooch>=1.0->librosa) (2.0.7)\n",
            "Requirement already satisfied: certifi>=2017.4.17 in /usr/local/lib/python3.10/dist-packages (from requests>=2.19.0->pooch>=1.0->librosa) (2023.7.22)\n"
          ]
        }
      ]
    },
    {
      "cell_type": "code",
      "source": [
        "import librosa\n",
        "import soundfile as sf  # Importa la biblioteca soundfile\n",
        "\n",
        "# Cargar las pistas de audio\n",
        "track1, sr1 = librosa.load(\"/content/drive/MyDrive/DJ_AI/DJ SAMA - Bee Gees Mega Mix With DJ Sama.mp3\")  # Reemplaza con la ruta de tu pista 1\n",
        "track2, sr2 = librosa.load(\"/content/drive/MyDrive/DJ_AI/Romeo Santos feat. Drake - Odio [128].mp3\")  # Reemplaza con la ruta de tu pista 2\n",
        "\n",
        "# Estimar los BPM de las pistas\n",
        "bpm_track1, _ = librosa.beat.beat_track(y=track1, sr=sr1)\n",
        "bpm_track2, _ = librosa.beat.beat_track(y=track2, sr=sr2)\n",
        "\n",
        "# Calcular la duración deseada en términos de muestras\n",
        "duracion_muestras = int(min(len(track1), len(track2))\n",
        "\n",
        "# Ensure both tracks have the same duration (3 minutes and 42 seconds)\n",
        "duration = min(len(track1), len(track2))\n",
        "\n",
        "# Adjust the duration of both tracks to be the same (3 minutes and 42 seconds)\n",
        "track1 = track1[:duration]\n",
        "track2 = track2[:duration]\n",
        "\n",
        "\n",
        "# Convertir las matrices numpy en archivos de audio temporal en formato WAV\n",
        "temp_audio1 = \"temp_track1.wav\"\n",
        "temp_audio2 = \"temp_track2.wav\"\n",
        "\n",
        "sf.write(temp_audio1, track1, sr1)  # Guarda track1 en formato WAV\n",
        "sf.write(temp_audio2, track2, sr2)  # Guarda track2 en formato WAV\n",
        "\n",
        "# Cargar los archivos temporales en AudioSegment y mezclarlos (usando PyDub como en tu código anterior)\n",
        "from pydub import AudioSegment\n",
        "audio_segment1 = AudioSegment.from_wav(temp_audio1)\n",
        "audio_segment2 = AudioSegment.from_wav(temp_audio2)\n",
        "mixed_track = audio_segment1 + audio_segment2\n",
        "\n",
        "# Exportar la pista mezclada\n",
        "mixed_track.export(\"dj-ia.mp3\", format=\"mp3\")\n"
      ],
      "metadata": {
        "id": "2zwPWyt_ZKAX"
      },
      "execution_count": null,
      "outputs": []
    }
  ]
}