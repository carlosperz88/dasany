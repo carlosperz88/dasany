{
  "nbformat": 4,
  "nbformat_minor": 0,
  "metadata": {
    "colab": {
      "provenance": [],
      "name": "Creador de Mockups Simple (Superposición de Imágenes).ipynb",
      "authorship_tag": "ABX9TyObkvcpWv0zIYg/lr+22k8A",
      "include_colab_link": true
    },
    "kernelspec": {
      "name": "python3",
      "display_name": "Python 3"
    },
    "language_info": {
      "name": "python"
    }
  },
  "cells": [
    {
      "cell_type": "markdown",
      "metadata": {
        "id": "view-in-github",
        "colab_type": "text"
      },
      "source": [
        "<a href=\"https://colab.research.google.com/github/carlosperz88/dasany/blob/main/Creador_de_Mockups_Simple_(Superposici%C3%B3n_de_Im%C3%A1genes).ipynb\" target=\"_parent\"><img src=\"https://colab.research.google.com/assets/colab-badge.svg\" alt=\"Open In Colab\"/></a>"
      ]
    },
    {
      "cell_type": "markdown",
      "source": [
        "# Creador de Mockups Simple con Gradio en Colab\n",
        "\n",
        "Este cuaderno te permite superponer una imagen de diseño (primer plano) sobre una imagen de plantilla (fondo), como crear un mockup de camiseta.\n",
        "\n",
        "**Instrucciones:**\n",
        "1.  **Instalar Librerías:** Ejecuta la primera celda de código para instalar `Pillow` y `Gradio`.\n",
        "2.  **Iniciar Interfaz:** Ejecuta la segunda celda de código. Haz clic en el enlace público (`Running on public URL: ...`) que aparecerá.\n",
        "3.  **Usar la Interfaz:**\n",
        "    *   Sube tu imagen de **fondo** (ej: la foto de la camiseta).\n",
        "    *   Sube tu imagen de **diseño** (ej: tu logo o gráfico, **preferiblemente PNG con transparencia**).\n",
        "    *   Ajusta los deslizadores para cambiar la **posición (X, Y)** y la **escala** del diseño.\n",
        "    *   La imagen resultante se actualizará automáticamente.\n",
        "4.  **Descargar:** Haz clic derecho en la imagen de salida y selecciona \"Guardar imagen como...\".\n",
        "\n",
        "**Nota Importante:** Para obtener los mejores resultados, la imagen de \"Diseño\" debe tener un fondo transparente (formato PNG). Si tu diseño tiene un fondo sólido que quieres eliminar, puedes usar primero el cuaderno de \"Removedor de Fondo\"."
      ],
      "metadata": {
        "id": "UkzVtbHXRo4G"
      }
    },
    {
      "cell_type": "code",
      "execution_count": null,
      "metadata": {
        "colab": {
          "base_uri": "https://localhost:8080/"
        },
        "id": "xPNO7gK1Rnye",
        "outputId": "7d7b46fb-78e5-4fcf-8be8-b6b23f27f328"
      },
      "outputs": [
        {
          "output_type": "stream",
          "name": "stdout",
          "text": [
            "Instalando Pillow y Gradio...\n",
            "\u001b[2K   \u001b[90m━━━━━━━━━━━━━━━━━━━━━━━━━━━━━━━━━━━━━━━━\u001b[0m \u001b[32m54.0/54.0 MB\u001b[0m \u001b[31m16.3 MB/s\u001b[0m eta \u001b[36m0:00:00\u001b[0m\n",
            "\u001b[2K   \u001b[90m━━━━━━━━━━━━━━━━━━━━━━━━━━━━━━━━━━━━━━━━\u001b[0m \u001b[32m322.6/322.6 kB\u001b[0m \u001b[31m15.9 MB/s\u001b[0m eta \u001b[36m0:00:00\u001b[0m\n",
            "\u001b[2K   \u001b[90m━━━━━━━━━━━━━━━━━━━━━━━━━━━━━━━━━━━━━━━━\u001b[0m \u001b[32m95.2/95.2 kB\u001b[0m \u001b[31m7.0 MB/s\u001b[0m eta \u001b[36m0:00:00\u001b[0m\n",
            "\u001b[2K   \u001b[90m━━━━━━━━━━━━━━━━━━━━━━━━━━━━━━━━━━━━━━━━\u001b[0m \u001b[32m11.5/11.5 MB\u001b[0m \u001b[31m66.8 MB/s\u001b[0m eta \u001b[36m0:00:00\u001b[0m\n",
            "\u001b[2K   \u001b[90m━━━━━━━━━━━━━━━━━━━━━━━━━━━━━━━━━━━━━━━━\u001b[0m \u001b[32m72.0/72.0 kB\u001b[0m \u001b[31m5.3 MB/s\u001b[0m eta \u001b[36m0:00:00\u001b[0m\n",
            "\u001b[2K   \u001b[90m━━━━━━━━━━━━━━━━━━━━━━━━━━━━━━━━━━━━━━━━\u001b[0m \u001b[32m62.5/62.5 kB\u001b[0m \u001b[31m4.3 MB/s\u001b[0m eta \u001b[36m0:00:00\u001b[0m\n",
            "\u001b[?25hInstalación completada.\n"
          ]
        }
      ],
      "source": [
        "print(\"Instalando Pillow y Gradio...\")\n",
        "# Pillow ya suele estar instalado en Colab, pero lo incluimos por si acaso.\n",
        "!pip install Pillow gradio -q\n",
        "\n",
        "print(\"Instalación completada.\")"
      ]
    },
    {
      "cell_type": "code",
      "source": [
        "import gradio as gr\n",
        "from PIL import Image\n",
        "import io\n",
        "import math # Para cálculos de redimensionamiento\n",
        "\n",
        "print(\"Importaciones listas.\")\n",
        "\n",
        "def create_mockup(background_img_pil, foreground_img_pil, pos_x, pos_y, scale):\n",
        "    \"\"\"\n",
        "    Superpone una imagen de primer plano sobre una de fondo.\n",
        "\n",
        "    Args:\n",
        "        background_img_pil (PIL.Image.Image): Imagen de fondo.\n",
        "        foreground_img_pil (PIL.Image.Image): Imagen de primer plano (diseño).\n",
        "        pos_x (int): Coordenada X (horizontal) de la esquina superior izquierda del diseño.\n",
        "        pos_y (int): Coordenada Y (vertical) de la esquina superior izquierda del diseño.\n",
        "        scale (float): Factor de escala para redimensionar el diseño (1.0 = tamaño original).\n",
        "\n",
        "    Returns:\n",
        "        PIL.Image.Image: Imagen combinada.\n",
        "    \"\"\"\n",
        "    if background_img_pil is None or foreground_img_pil is None:\n",
        "        # Si falta alguna imagen, devuelve la que esté disponible o nada\n",
        "        return background_img_pil if background_img_pil else None\n",
        "\n",
        "    # Asegúrate de que la imagen de fondo esté en modo RGBA para poder pegar transparencia\n",
        "    background = background_img_pil.convert(\"RGBA\")\n",
        "    foreground = foreground_img_pil.convert(\"RGBA\") # Asegurar RGBA también en el diseño\n",
        "\n",
        "    # 1. Redimensionar el diseño (foreground) según el factor de escala\n",
        "    original_width, original_height = foreground.size\n",
        "    new_width = int(original_width * scale)\n",
        "    new_height = int(original_height * scale)\n",
        "\n",
        "    # Evitar tamaño cero si la escala es muy pequeña\n",
        "    if new_width <= 0 or new_height <= 0:\n",
        "        return background # Devolver el fondo original si la escala es inválida\n",
        "\n",
        "    foreground_resized = foreground.resize((new_width, new_height), Image.Resampling.LANCZOS)\n",
        "\n",
        "    # 2. Crear una copia del fondo para no modificar el original directamente\n",
        "    #    en caso de que Gradio lo reutilice.\n",
        "    combined_image = background.copy()\n",
        "\n",
        "    # 3. Pegar el diseño redimensionado sobre la copia del fondo\n",
        "    #    La posición (pos_x, pos_y) es la esquina superior izquierda donde se pega.\n",
        "    #    El tercer argumento (foreground_resized) actúa como máscara si tiene canal alfa,\n",
        "    #    lo que permite que las partes transparentes del PNG no tapen el fondo.\n",
        "    try:\n",
        "        combined_image.paste(foreground_resized, (pos_x, pos_y), foreground_resized)\n",
        "    except Exception as e:\n",
        "        print(f\"Error al pegar la imagen: {e}\")\n",
        "        # Podría ocurrir si las coordenadas están muy fuera de los límites,\n",
        "        # aunque paste suele manejarlo recortando. Devolvemos el fondo por si acaso.\n",
        "        return background\n",
        "\n",
        "    return combined_image\n",
        "\n",
        "# --- Crear la Interfaz de Gradio ---\n",
        "print(\"Creando la interfaz de Gradio...\")\n",
        "\n",
        "with gr.Blocks() as demo:\n",
        "    gr.Markdown(\"# Creador de Mockups Simple\")\n",
        "    gr.Markdown(\"Sube un fondo y un diseño, luego ajusta posición y escala.\")\n",
        "\n",
        "    with gr.Row():\n",
        "        with gr.Column():\n",
        "            bg_input = gr.Image(type=\"pil\", label=\"1. Imagen de Fondo (Plantilla)\")\n",
        "            fg_input = gr.Image(type=\"pil\", label=\"2. Imagen de Diseño (Preferible PNG transparente)\")\n",
        "        with gr.Column():\n",
        "            output_image = gr.Image(type=\"pil\", label=\"Resultado (Mockup)\")\n",
        "\n",
        "    with gr.Row():\n",
        "        pos_x_slider = gr.Slider(minimum=-200, maximum=2000, step=1, value=50, label=\"Posición X (Horizontal)\")\n",
        "        pos_y_slider = gr.Slider(minimum=-200, maximum=2000, step=1, value=50, label=\"Posición Y (Vertical)\")\n",
        "        scale_slider = gr.Slider(minimum=0.1, maximum=3.0, step=0.05, value=0.5, label=\"Escala del Diseño\")\n",
        "\n",
        "    # Conectar los inputs/controles a la función y al output\n",
        "    inputs_list = [bg_input, fg_input, pos_x_slider, pos_y_slider, scale_slider]\n",
        "    bg_input.change(create_mockup, inputs=inputs_list, outputs=output_image)\n",
        "    fg_input.change(create_mockup, inputs=inputs_list, outputs=output_image)\n",
        "    pos_x_slider.change(create_mockup, inputs=inputs_list, outputs=output_image)\n",
        "    pos_y_slider.change(create_mockup, inputs=inputs_list, outputs=output_image)\n",
        "    scale_slider.change(create_mockup, inputs=inputs_list, outputs=output_image)\n",
        "\n",
        "    gr.Markdown(\"---\")\n",
        "    gr.Markdown(\"**Consejo:** Para la imagen de diseño, usa un archivo PNG con fondo transparente. Si no lo tienes, usa primero el 'Removedor de Fondo'.\")\n",
        "    gr.Markdown(\"Haz clic derecho en la imagen de 'Resultado' para guardarla.\")\n",
        "\n",
        "\n",
        "# Lanzar la interfaz\n",
        "print(\"Lanzando la interfaz de Gradio...\")\n",
        "print(\"Cuando aparezca 'Running on public URL:', haz clic en ese enlace.\")\n",
        "\n",
        "demo.launch(share=True, debug=True)\n",
        "\n",
        "print(\"\\nLa interfaz debería estar corriendo. Si no ves un enlace público, revisa los mensajes de error.\")\n",
        "print(\"Para detener la interfaz, interrumpe la ejecución de esta celda (botón de stop).\")"
      ],
      "metadata": {
        "colab": {
          "base_uri": "https://localhost:8080/",
          "height": 767
        },
        "id": "D6OijkbnR3zi",
        "outputId": "be00301e-fd70-4c3c-d023-3b6a207ae074"
      },
      "execution_count": null,
      "outputs": [
        {
          "output_type": "stream",
          "name": "stdout",
          "text": [
            "Importaciones listas.\n",
            "Creando la interfaz de Gradio...\n",
            "Lanzando la interfaz de Gradio...\n",
            "Cuando aparezca 'Running on public URL:', haz clic en ese enlace.\n",
            "Colab notebook detected. This cell will run indefinitely so that you can see errors and logs. To turn off, set debug=False in launch().\n",
            "* Running on public URL: https://0ee6a5d3a4f3610a4b.gradio.live\n",
            "\n",
            "This share link expires in 1 week. For free permanent hosting and GPU upgrades, run `gradio deploy` from the terminal in the working directory to deploy to Hugging Face Spaces (https://huggingface.co/spaces)\n"
          ]
        },
        {
          "output_type": "display_data",
          "data": {
            "text/plain": [
              "<IPython.core.display.HTML object>"
            ],
            "text/html": [
              "<div><iframe src=\"https://0ee6a5d3a4f3610a4b.gradio.live\" width=\"100%\" height=\"500\" allow=\"autoplay; camera; microphone; clipboard-read; clipboard-write;\" frameborder=\"0\" allowfullscreen></iframe></div>"
            ]
          },
          "metadata": {}
        },
        {
          "output_type": "stream",
          "name": "stdout",
          "text": [
            "Keyboard interruption in main thread... closing server.\n",
            "Killing tunnel 127.0.0.1:7860 <> https://0ee6a5d3a4f3610a4b.gradio.live\n",
            "\n",
            "La interfaz debería estar corriendo. Si no ves un enlace público, revisa los mensajes de error.\n",
            "Para detener la interfaz, interrumpe la ejecución de esta celda (botón de stop).\n"
          ]
        }
      ]
    }
  ]
}