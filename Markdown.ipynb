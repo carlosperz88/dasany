{
  "nbformat": 4,
  "nbformat_minor": 0,
  "metadata": {
    "colab": {
      "provenance": [],
      "gpuType": "T4",
      "mount_file_id": "1m3ZxoOe2_dqij7SddbdkyPHrS0YcZ4Uu",
      "authorship_tag": "ABX9TyOb/+NOBngmwpd5UhqJZLqy",
      "include_colab_link": true
    },
    "kernelspec": {
      "name": "python3",
      "display_name": "Python 3"
    },
    "language_info": {
      "name": "python"
    },
    "accelerator": "GPU"
  },
  "cells": [
    {
      "cell_type": "markdown",
      "metadata": {
        "id": "view-in-github",
        "colab_type": "text"
      },
      "source": [
        "<a href=\"https://colab.research.google.com/github/carlosperz88/dasany/blob/main/Markdown.ipynb\" target=\"_parent\"><img src=\"https://colab.research.google.com/assets/colab-badge.svg\" alt=\"Open In Colab\"/></a>"
      ]
    },
    {
      "cell_type": "markdown",
      "source": [
        "# Removedor de Fondo con Interfaz Gráfica (Gradio) en Colab\n",
        "\n",
        "Este cuaderno utiliza la librería `rembg` para eliminar el fondo de imágenes y presenta una interfaz gráfica creada con `gradio` para facilitar su uso.\n",
        "\n",
        "**Pasos:**\n",
        "1.  **Instalar Librerías:** Ejecuta la celda para instalar `rembg` y `gradio`.\n",
        "2.  **Iniciar la Interfaz:** Ejecuta la celda de Gradio. Se generará un enlace público (`Running on public URL: ...`). Haz clic en ese enlace.\n",
        "3.  **Usar la Interfaz:** En la nueva pestaña que se abre, arrastra o sube tu imagen al panel de entrada. La imagen procesada (sin fondo) aparecerá en el panel de salida.\n",
        "4.  **Descargar:** Puedes hacer clic derecho en la imagen de salida y guardarla."
      ],
      "metadata": {
        "id": "D0QLGtOZ8Umh"
      }
    },
    {
      "cell_type": "code",
      "execution_count": 1,
      "metadata": {
        "colab": {
          "base_uri": "https://localhost:8080/"
        },
        "id": "0Msi6Sur8LVZ",
        "outputId": "9e22bdcd-52a8-4375-d193-88a1540de4d5"
      },
      "outputs": [
        {
          "output_type": "stream",
          "name": "stdout",
          "text": [
            "Instalando rembg y gradio...\n",
            "\u001b[2K   \u001b[90m━━━━━━━━━━━━━━━━━━━━━━━━━━━━━━━━━━━━━━━━\u001b[0m \u001b[32m54.0/54.0 MB\u001b[0m \u001b[31m16.9 MB/s\u001b[0m eta \u001b[36m0:00:00\u001b[0m\n",
            "\u001b[2K   \u001b[90m━━━━━━━━━━━━━━━━━━━━━━━━━━━━━━━━━━━━━━━━\u001b[0m \u001b[32m322.7/322.7 kB\u001b[0m \u001b[31m25.1 MB/s\u001b[0m eta \u001b[36m0:00:00\u001b[0m\n",
            "\u001b[2K   \u001b[90m━━━━━━━━━━━━━━━━━━━━━━━━━━━━━━━━━━━━━━━━\u001b[0m \u001b[32m95.2/95.2 kB\u001b[0m \u001b[31m8.6 MB/s\u001b[0m eta \u001b[36m0:00:00\u001b[0m\n",
            "\u001b[2K   \u001b[90m━━━━━━━━━━━━━━━━━━━━━━━━━━━━━━━━━━━━━━━━\u001b[0m \u001b[32m11.5/11.5 MB\u001b[0m \u001b[31m77.9 MB/s\u001b[0m eta \u001b[36m0:00:00\u001b[0m\n",
            "\u001b[2K   \u001b[90m━━━━━━━━━━━━━━━━━━━━━━━━━━━━━━━━━━━━━━━━\u001b[0m \u001b[32m72.0/72.0 kB\u001b[0m \u001b[31m8.2 MB/s\u001b[0m eta \u001b[36m0:00:00\u001b[0m\n",
            "\u001b[2K   \u001b[90m━━━━━━━━━━━━━━━━━━━━━━━━━━━━━━━━━━━━━━━━\u001b[0m \u001b[32m62.5/62.5 kB\u001b[0m \u001b[31m6.1 MB/s\u001b[0m eta \u001b[36m0:00:00\u001b[0m\n",
            "\u001b[2K   \u001b[90m━━━━━━━━━━━━━━━━━━━━━━━━━━━━━━━━━━━━━━━━\u001b[0m \u001b[32m280.8/280.8 MB\u001b[0m \u001b[31m4.9 MB/s\u001b[0m eta \u001b[36m0:00:00\u001b[0m\n",
            "\u001b[2K   \u001b[90m━━━━━━━━━━━━━━━━━━━━━━━━━━━━━━━━━━━━━━━━\u001b[0m \u001b[32m54.5/54.5 kB\u001b[0m \u001b[31m5.6 MB/s\u001b[0m eta \u001b[36m0:00:00\u001b[0m\n",
            "\u001b[2K   \u001b[90m━━━━━━━━━━━━━━━━━━━━━━━━━━━━━━━━━━━━━━━━\u001b[0m \u001b[32m41.2/41.2 kB\u001b[0m \u001b[31m4.1 MB/s\u001b[0m eta \u001b[36m0:00:00\u001b[0m\n",
            "\u001b[2K   \u001b[90m━━━━━━━━━━━━━━━━━━━━━━━━━━━━━━━━━━━━━━━━\u001b[0m \u001b[32m46.0/46.0 kB\u001b[0m \u001b[31m5.0 MB/s\u001b[0m eta \u001b[36m0:00:00\u001b[0m\n",
            "\u001b[2K   \u001b[90m━━━━━━━━━━━━━━━━━━━━━━━━━━━━━━━━━━━━━━━━\u001b[0m \u001b[32m86.8/86.8 kB\u001b[0m \u001b[31m9.4 MB/s\u001b[0m eta \u001b[36m0:00:00\u001b[0m\n",
            "\u001b[?25hInstalación completada.\n"
          ]
        }
      ],
      "source": [
        "print(\"Instalando rembg y gradio...\")\n",
        "!pip install rembg[gpu] gradio -q # -q para modo silencioso\n",
        "# Si no tienes GPU o prefieres la versión CPU:\n",
        "# !pip install rembg gradio -q\n",
        "\n",
        "print(\"Instalación completada.\")"
      ]
    },
    {
      "cell_type": "code",
      "source": [
        "import gradio as gr\n",
        "from rembg import remove\n",
        "from PIL import Image\n",
        "import io\n",
        "\n",
        "print(\"Importaciones listas.\")\n",
        "\n",
        "# Función que toma una imagen (formato PIL) y devuelve la imagen sin fondo (formato PIL)\n",
        "def remove_background(input_image):\n",
        "  \"\"\"\n",
        "  Elimina el fondo de una imagen usando rembg.\n",
        "  Args:\n",
        "    input_image (PIL.Image.Image): La imagen de entrada.\n",
        "  Returns:\n",
        "    PIL.Image.Image: La imagen con el fondo eliminado (en formato PNG).\n",
        "  \"\"\"\n",
        "  if input_image is None:\n",
        "        return None\n",
        "\n",
        "  # Convertir la imagen PIL a bytes para rembg\n",
        "  input_buffer = io.BytesIO()\n",
        "  # Asegurarse de guardar en un formato que rembg pueda leer bien (como PNG o JPEG)\n",
        "  # Si la imagen de entrada ya tiene transparencia, guardarla como PNG es mejor\n",
        "  if input_image.mode == 'RGBA':\n",
        "      input_image.save(input_buffer, format=\"PNG\")\n",
        "  else:\n",
        "      input_image.save(input_buffer, format=\"JPEG\") # O PNG si prefieres\n",
        "  input_bytes = input_buffer.getvalue()\n",
        "\n",
        "  # Usar rembg para quitar el fondo\n",
        "  output_bytes = remove(input_bytes)\n",
        "\n",
        "  # Convertir los bytes resultantes de vuelta a una imagen PIL\n",
        "  output_image = Image.open(io.BytesIO(output_bytes))\n",
        "\n",
        "  return output_image\n",
        "\n",
        "# Crear la interfaz de Gradio\n",
        "print(\"Creando la interfaz de Gradio...\")\n",
        "\n",
        "# Usamos gr.Image para entrada y salida.\n",
        "# type=\"pil\" significa que la función 'remove_background' recibirá y devolverá objetos PIL.Image\n",
        "# label=\"...\" es el texto que se muestra en la interfaz.\n",
        "iface = gr.Interface(\n",
        "    fn=remove_background,\n",
        "    inputs=gr.Image(type=\"pil\", label=\"Imagen Original\"),\n",
        "    outputs=gr.Image(type=\"pil\", label=\"Imagen Sin Fondo (PNG)\", format=\"png\"), # Forzar salida PNG para transparencia\n",
        "    title=\"Removedor de Fondo de Imágenes\",\n",
        "    description=\"Sube una imagen para eliminar automáticamente su fondo usando la librería rembg.\",\n",
        "    allow_flagging='never', # Desactiva el botón de \"Flag\"\n",
        "    examples=[ # Opcional: añade ejemplos que los usuarios pueden probar\n",
        "        # Debes tener estas imágenes disponibles en el entorno Colab o usar URLs\n",
        "        # [\"ejemplo1.jpg\"],\n",
        "        # [\"ejemplo2.png\"]\n",
        "    ]\n",
        ")\n",
        "\n",
        "# Lanzar la interfaz\n",
        "print(\"Lanzando la interfaz de Gradio...\")\n",
        "print(\"Cuando aparezca 'Running on public URL:', haz clic en ese enlace.\")\n",
        "\n",
        "# share=True crea un enlace público temporal (válido por ~72h)\n",
        "# debug=True muestra más información si hay errores\n",
        "iface.launch(share=True, debug=True)\n",
        "\n",
        "print(\"\\nLa interfaz debería estar corriendo. Si no ves un enlace público, revisa los mensajes de error.\")\n",
        "print(\"Para detener la interfaz, interrumpe la ejecución de esta celda (botón de stop).\")"
      ],
      "metadata": {
        "colab": {
          "base_uri": "https://localhost:8080/",
          "height": 715
        },
        "id": "3K9-Lc4R9C5M",
        "outputId": "ea773d52-909d-4626-92f2-8982a43e8d9b"
      },
      "execution_count": null,
      "outputs": [
        {
          "output_type": "stream",
          "name": "stdout",
          "text": [
            "Importaciones listas.\n",
            "Creando la interfaz de Gradio...\n"
          ]
        },
        {
          "output_type": "stream",
          "name": "stderr",
          "text": [
            "/usr/local/lib/python3.11/dist-packages/gradio/interface.py:415: UserWarning: The `allow_flagging` parameter in `Interface` is deprecated.Use `flagging_mode` instead.\n",
            "  warnings.warn(\n"
          ]
        },
        {
          "output_type": "stream",
          "name": "stdout",
          "text": [
            "Lanzando la interfaz de Gradio...\n",
            "Cuando aparezca 'Running on public URL:', haz clic en ese enlace.\n",
            "Colab notebook detected. This cell will run indefinitely so that you can see errors and logs. To turn off, set debug=False in launch().\n",
            "* Running on public URL: https://d716c756ab2ccc9a2f.gradio.live\n",
            "\n",
            "This share link expires in 1 week. For free permanent hosting and GPU upgrades, run `gradio deploy` from the terminal in the working directory to deploy to Hugging Face Spaces (https://huggingface.co/spaces)\n"
          ]
        },
        {
          "output_type": "display_data",
          "data": {
            "text/plain": [
              "<IPython.core.display.HTML object>"
            ],
            "text/html": [
              "<div><iframe src=\"https://d716c756ab2ccc9a2f.gradio.live\" width=\"100%\" height=\"500\" allow=\"autoplay; camera; microphone; clipboard-read; clipboard-write;\" frameborder=\"0\" allowfullscreen></iframe></div>"
            ]
          },
          "metadata": {}
        }
      ]
    }
  ]
}